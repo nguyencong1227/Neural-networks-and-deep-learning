{
  "nbformat": 4,
  "nbformat_minor": 0,
  "metadata": {
    "colab": {
      "name": "K_mnist.ipynb",
      "provenance": [],
      "authorship_tag": "ABX9TyNMSUK7JQMueWeXscpTeCHZ",
      "include_colab_link": true
    },
    "kernelspec": {
      "name": "python3",
      "display_name": "Python 3"
    },
    "language_info": {
      "name": "python"
    }
  },
  "cells": [
    {
      "cell_type": "markdown",
      "metadata": {
        "id": "view-in-github",
        "colab_type": "text"
      },
      "source": [
        "<a href=\"https://colab.research.google.com/github/nguyencong1227/Neural-networks-and-deep-learning/blob/main/K_mnist.ipynb\" target=\"_parent\"><img src=\"https://colab.research.google.com/assets/colab-badge.svg\" alt=\"Open In Colab\"/></a>"
      ]
    },
    {
      "cell_type": "code",
      "execution_count": null,
      "metadata": {
        "id": "tvfxTQJ7dfa4"
      },
      "outputs": [],
      "source": [
        "import numpy as np\n",
        "import pandas as pd\n",
        "from matplotlib import pyplot as plt"
      ]
    },
    {
      "cell_type": "code",
      "source": [
        "from tensorflow.keras.datasets.mnist import load_data\n",
        "(X_train, y_train), (X_test, y_test) = load_data()"
      ],
      "metadata": {
        "id": "DrNOtt70d8jm"
      },
      "execution_count": null,
      "outputs": []
    },
    {
      "cell_type": "code",
      "source": [
        "print(X_train.shape, y_train.shape)\n",
        "print(X_test.shape, y_test.shape)"
      ],
      "metadata": {
        "colab": {
          "base_uri": "https://localhost:8080/"
        },
        "id": "alX6Kv0yeLYP",
        "outputId": "c13f5987-7283-42b7-c539-620d31866198"
      },
      "execution_count": null,
      "outputs": [
        {
          "output_type": "stream",
          "name": "stdout",
          "text": [
            "(60000, 28, 28) (60000,)\n",
            "(10000, 28, 28) (10000,)\n"
          ]
        }
      ]
    },
    {
      "cell_type": "code",
      "source": [
        "from matplotlib import pyplot as plt\n",
        "\n",
        "i = 0\n",
        "img = X_train[i]\n",
        "plt.imshow(img, cmap=\"gray\")\n",
        "\n",
        "print(y_train[i])"
      ],
      "metadata": {
        "colab": {
          "base_uri": "https://localhost:8080/",
          "height": 282
        },
        "id": "tR6znI5meNOu",
        "outputId": "8bfef239-b2a6-4c08-e090-c72992967529"
      },
      "execution_count": null,
      "outputs": [
        {
          "output_type": "stream",
          "name": "stdout",
          "text": [
            "5\n"
          ]
        },
        {
          "output_type": "display_data",
          "data": {
            "text/plain": [
              "<Figure size 432x288 with 1 Axes>"
            ],
            "image/png": "[encoded data removed]"
          },
          "metadata": {
            "needs_background": "light"
          }
        }
      ]
    },
    {
      "cell_type": "code",
      "source": [
        "plt.subplot(1, 2, 1)\n",
        "plt.hist(y_train)\n",
        "plt.title(\"Train labels\")\n",
        "\n",
        "plt.subplot(1, 2, 2)\n",
        "plt.hist(y_test)\n",
        "plt.title(\"Test labels\")"
      ],
      "metadata": {
        "id": "KtxgySVXeZl4",
        "colab": {
          "base_uri": "https://localhost:8080/",
          "height": 298
        },
        "outputId": "24b13072-9043-4538-e25f-8c8edef45dfe"
      },
      "execution_count": null,
      "outputs": [
        {
          "output_type": "execute_result",
          "data": {
            "text/plain": [
              "Text(0.5, 1.0, 'Test labels')"
            ]
          },
          "metadata": {},
          "execution_count": 5
        },
        {
          "output_type": "display_data",
          "data": {
            "text/plain": [
              "<Figure size 432x288 with 2 Axes>"
            ],
            "image/png": "[encoded data removed]"
          },
          "metadata": {
            "needs_background": "light"
          }
        }
      ]
    },
    {
      "cell_type": "code",
      "source": [
        "X_train_norm = np.array([x.ravel() / 255. for x in X_train])\n",
        "X_test_norm = np.array([x.ravel() / 255. for x in X_test])"
      ],
      "metadata": {
        "id": "cL86EXfiekQQ"
      },
      "execution_count": null,
      "outputs": []
    },
    {
      "cell_type": "code",
      "source": [
        "# Output\n",
        "\n",
        "y_train_onehot = np.zeros((X_train.shape[0], 10))\n",
        "for i in range(X_train.shape[0]):\n",
        "  y_train_onehot[i, y_train[i]] = 1.0\n",
        "\n",
        "y_test_onehot = np.zeros((X_test.shape[0], 10))\n",
        "for i in range(X_test.shape[0]):\n",
        "  y_test_onehot[i, y_test[i]] = 1.0\n",
        "\n",
        "print(y_train_onehot.shape, y_test_onehot.shape)\n",
        "print(y_train_onehot[0])"
      ],
      "metadata": {
        "colab": {
          "base_uri": "https://localhost:8080/"
        },
        "id": "M19USzcVezD_",
        "outputId": "39cd2397-7878-42d7-a211-7eeea7288860"
      },
      "execution_count": null,
      "outputs": [
        {
          "output_type": "stream",
          "name": "stdout",
          "text": [
            "(60000, 10) (10000, 10)\n",
            "[0. 0. 0. 0. 0. 1. 0. 0. 0. 0.]\n"
          ]
        }
      ]
    },
    {
      "cell_type": "code",
      "source": [
        "# Class SigmoidLayer\n",
        "\n",
        "g = lambda z: 1/ (1 + np.exp(-z))\n",
        "class SigmoidLayer:\n",
        "  def __init__(self, n_inp, n_out, bias = True):\n",
        "    if bias: n_inp += 1\n",
        "    w = np.random.randn(n_inp, n_out)\n",
        "    self.w = w\n",
        "    self.bias = bias\n",
        "    self.is_forword = False\n",
        "\n",
        "  def forword(self, X):\n",
        "    if self.bias:\n",
        "      X = np.hstack((np.ones((X.shape[0], 1)), X))\n",
        "\n",
        "    z = np.dot(X, self.w)\n",
        "    a = g(z)\n",
        "\n",
        "    self.is_forword = True\n",
        "    self.x = X\n",
        "    self.a = a\n",
        "    return a\n",
        "\n",
        "  def back_propagation(self, delta):\n",
        "    a = self.a\n",
        "    dw = np.dot(self.x.T, delta * a * (1.0 - a ))\n",
        "\n",
        "    if self.bias:\n",
        "      da = np.dot(delta * a * (1.0 - a), self.w.T)[:, 1:]\n",
        "    else:\n",
        "      da = np.dot(delta * a * (1.0 - a), self.w.T)\n",
        "\n",
        "    return dw, da"
      ],
      "metadata": {
        "id": "A9xDnp2ofKyX"
      },
      "execution_count": null,
      "outputs": []
    },
    {
      "cell_type": "code",
      "source": [
        "# Class Softmaxlayer\n",
        "\n",
        "class Softmaxlayer:\n",
        "  def __init__(self, n_inp, n_out, bias = True):\n",
        "    if bias: n_inp += 1\n",
        "    w = np.random.randn(n_inp, n_out)\n",
        "    self.w = w\n",
        "    self.bias = bias\n",
        "    self.is_forword = False\n",
        "\n",
        "  def forword(self, X):\n",
        "    if self.bias:\n",
        "      X = np.hstack((np.ones((X.shape[0], 1)), X))\n",
        "\n",
        "    z = np.dot(X, self.w)\n",
        "    e = np.exp(z)\n",
        "    s = np.sum(e, axis = 1, keepdims = True)\n",
        "\n",
        "    self.is_forword = True\n",
        "    self.x = X\n",
        "\n",
        "    return e / s\n",
        "\n",
        "  def back_propagation(self, delta):\n",
        "    dw = np.dot(self.x.T, delta)\n",
        "\n",
        "    if self.bias:\n",
        "      da = np.dot(delta, self.w.T)[:, 1:]\n",
        "    else:\n",
        "      da = np.dot(delta, self.w.T)\n",
        "\n",
        "    return dw, da"
      ],
      "metadata": {
        "id": "j_lzWx-Cfdlw"
      },
      "execution_count": null,
      "outputs": []
    },
    {
      "cell_type": "code",
      "source": [
        "def loss(y_true, y_pred):\n",
        "  return -np.mean((y_true * np.log(y_pred)))\n",
        "\n",
        "def predict(X, model):\n",
        "  for l in model:\n",
        "    X = l.forword(X)\n",
        "  return X"
      ],
      "metadata": {
        "id": "iNMvU_LEgFun"
      },
      "execution_count": null,
      "outputs": []
    },
    {
      "cell_type": "code",
      "source": [
        "#settings\n",
        "NDIMS = 784\n",
        "L1 = 64\n",
        "L2 = 64\n",
        "L3 = 32\n",
        "EPOCHS = 100\n",
        "LR = 0.0001\n",
        "\n",
        "layers = [SigmoidLayer(NDIMS, L1, bias = False),\n",
        "          SigmoidLayer(L1, L2),\n",
        "          SigmoidLayer(L2, L3),\n",
        "          Softmaxlayer(L3, 10)]"
      ],
      "metadata": {
        "id": "8USgdx9Cgdo_"
      },
      "execution_count": null,
      "outputs": []
    },
    {
      "cell_type": "code",
      "source": [
        "def train_step(X, y, model, lr = 0.001):\n",
        "  y_pred = predict(X, model)\n",
        "  delta = y_pred - y\n",
        "\n",
        "  for l in reversed(model):\n",
        "    dw, delta = l.back_propagation(delta)\n",
        "    l.w -= lr * dw\n",
        "\n",
        "#for i in range(EPOCHS):\n",
        "#   train_step(X_train_scaled, y_train, model = layers)"
      ],
      "metadata": {
        "id": "k53onnTNhQ8Y"
      },
      "execution_count": null,
      "outputs": []
    },
    {
      "cell_type": "code",
      "source": [
        "#use momentum_train_step\n",
        "\n",
        "def momentum_train_step(X, y, model, lr = 0.001, gamma = 0.6):\n",
        "  y_pred = predict(X, model)\n",
        "  delta = y_pred - y\n",
        "\n",
        "  for l in reversed(model):\n",
        "    dw, delta = l.back_propagation(delta)\n",
        "    l.w -= (lr * dw + gamma * l.w)"
      ],
      "metadata": {
        "id": "MjLYyri-hkXv"
      },
      "execution_count": null,
      "outputs": []
    },
    {
      "cell_type": "code",
      "source": [
        "def batch_generator(X, y, batch_size=500):\n",
        "  idx = np.arange(X.shape[0])\n",
        "  np.random.shuffle(idx)\n",
        "\n",
        "  n_batch = len(idx) // batch_size\n",
        "  for i in range(n_batch):\n",
        "    i_start = i * batch_size\n",
        "    i_stop = min((i + 1) * batch_size, len(idx))\n",
        "\n",
        "    yield X[i_start:i_stop, :], y[i_start:i_stop, :]"
      ],
      "metadata": {
        "id": "UHG5fAj1iefJ"
      },
      "execution_count": null,
      "outputs": []
    },
    {
      "cell_type": "code",
      "source": [
        "history_loss = []\n",
        "for i in range(50):\n",
        "  for X_batch, y_batch in batch_generator(X_train_norm, y_train_onehot):\n",
        "    train_step(X_batch, y_batch, layers)\n",
        "\n",
        "  y_pred = predict(X_train_norm, layers)\n",
        "  loss_ = loss(y_train_onehot, y_pred)\n",
        "  print(f\"loss: {loss_}\")\n",
        "  history_loss.append(loss_)"
      ],
      "metadata": {
        "colab": {
          "base_uri": "https://localhost:8080/"
        },
        "id": "w1sCJjw8iicI",
        "outputId": "12d567c9-d7ec-41f8-dbb0-ceb2739d7ff5"
      },
      "execution_count": null,
      "outputs": [
        {
          "output_type": "stream",
          "name": "stdout",
          "text": [
            "loss: 0.019841787656976098\n",
            "loss: 0.01958843769970798\n",
            "loss: 0.019340179004224006\n",
            "loss: 0.019098215872833637\n",
            "loss: 0.018862470622649813\n",
            "loss: 0.01863272476647429\n",
            "loss: 0.01840874877571168\n",
            "loss: 0.018190321444753584\n",
            "loss: 0.01797723233439116\n",
            "loss: 0.017769280950778447\n",
            "loss: 0.01756627549144379\n",
            "loss: 0.01736803176342931\n",
            "loss: 0.01717437224426511\n",
            "loss: 0.016985125110567777\n",
            "loss: 0.016800123167047612\n",
            "loss: 0.016619202812942657\n",
            "loss: 0.016442203306354746\n",
            "loss: 0.016268966527489086\n",
            "loss: 0.016099337249619993\n",
            "loss: 0.01593316375694608\n",
            "loss: 0.015770298620061754\n",
            "loss: 0.015610599535960903\n",
            "loss: 0.0154539302477108\n",
            "loss: 0.015300161593703069\n",
            "loss: 0.015149172707031894\n",
            "loss: 0.01500085234704015\n",
            "loss: 0.014855100313903823\n",
            "loss: 0.014711828841970967\n",
            "loss: 0.014570963769064568\n",
            "loss: 0.014432445167734159\n",
            "loss: 0.014296227063948782\n",
            "loss: 0.01416227592459545\n",
            "loss: 0.014030567805899858\n",
            "loss: 0.013901084389813887\n",
            "loss: 0.013773808479880271\n",
            "loss: 0.01364871974338407\n",
            "loss: 0.013525791484406947\n",
            "loss: 0.013404988984324077\n",
            "loss: 0.013286269494346763\n",
            "loss: 0.013169583481539437\n",
            "loss: 0.013054876463721636\n",
            "loss: 0.012942090829252146\n",
            "loss: 0.01283116730233814\n",
            "loss: 0.012722045981864386\n",
            "loss: 0.012614667040812147\n",
            "loss: 0.01250897122212844\n",
            "loss: 0.012404900248017976\n",
            "loss: 0.0123023972128581\n",
            "loss: 0.012201406980680245\n",
            "loss: 0.01210187657082338\n"
          ]
        }
      ]
    },
    {
      "cell_type": "code",
      "source": [
        "plt.plot(history_loss)"
      ],
      "metadata": {
        "colab": {
          "base_uri": "https://localhost:8080/",
          "height": 282
        },
        "id": "NBkzRbkerYWx",
        "outputId": "253cbd5f-3641-45c2-da35-e2d73282bd17"
      },
      "execution_count": null,
      "outputs": [
        {
          "output_type": "execute_result",
          "data": {
            "text/plain": [
              "[<matplotlib.lines.Line2D at 0x7f6b7b3bf510>]"
            ]
          },
          "metadata": {},
          "execution_count": 20
        },
        {
          "output_type": "display_data",
          "data": {
            "text/plain": [
              "<Figure size 432x288 with 1 Axes>"
            ],
            "image/png": "[encoded data removed]"
          },
          "metadata": {
            "needs_background": "light"
          }
        }
      ]
    },
    {
      "cell_type": "code",
      "source": [
        "y_pred = predict(X_test_norm, model = layers)\n",
        "y_pred = np.argmax(y_pred, axis = 1)\n",
        "\n",
        "from sklearn.metrics import classification_report\n",
        "print(classification_report(y_test, y_pred))\n"
      ],
      "metadata": {
        "colab": {
          "base_uri": "https://localhost:8080/"
        },
        "id": "Exl6KjuWm2PE",
        "outputId": "6f6fed8a-b465-4571-d5d5-9427815b27a4"
      },
      "execution_count": null,
      "outputs": [
        {
          "output_type": "stream",
          "name": "stdout",
          "text": [
            "              precision    recall  f1-score   support\n",
            "\n",
            "           0       0.95      0.98      0.97       980\n",
            "           1       0.97      0.98      0.98      1135\n",
            "           2       0.94      0.93      0.94      1032\n",
            "           3       0.94      0.92      0.93      1010\n",
            "           4       0.94      0.93      0.94       982\n",
            "           5       0.89      0.94      0.91       892\n",
            "           6       0.94      0.95      0.94       958\n",
            "           7       0.95      0.94      0.94      1028\n",
            "           8       0.93      0.90      0.92       974\n",
            "           9       0.92      0.91      0.92      1009\n",
            "\n",
            "    accuracy                           0.94     10000\n",
            "   macro avg       0.94      0.94      0.94     10000\n",
            "weighted avg       0.94      0.94      0.94     10000\n",
            "\n"
          ]
        }
      ]
    },
    {
      "cell_type": "markdown",
      "source": [
        "# Activity 5"
      ],
      "metadata": {
        "id": "OWIfouycJ_W-"
      }
    },
    {
      "cell_type": "code",
      "source": [
        "from tensorflow.keras.layers import Dense, Input\n",
        "from tensorflow.keras.models import Model\n",
        "\n",
        "inp = Input(shape=(784, ))\n",
        "x = Dense(units = 64, activation = \"sigmoid\", )(inp)\n",
        "x = Dense(units = 64, activation = \"sigmoid\")(x)\n",
        "y = Dense(units = 10, activation = \"softmax\")(x)\n",
        "\n",
        "model = Model(inputs = inp, outputs = y)\n",
        "model.summary()"
      ],
      "metadata": {
        "id": "ltcQMPDSKB7c"
      },
      "execution_count": null,
      "outputs": []
    },
    {
      "cell_type": "code",
      "source": [
        "model.compile(optimizer=\"SGD\", loss=\"categorical_crossentropy\", metrics=['acc'])"
      ],
      "metadata": {
        "id": "UOwNmORamTQX"
      },
      "execution_count": null,
      "outputs": []
    },
    {
      "cell_type": "code",
      "source": [
        "a = model.fit(X_train_norm, y_train_onehot, batch_size = 512, epochs=50, validation_split=0.2)"
      ],
      "metadata": {
        "id": "yDb21VGVmuqD"
      },
      "execution_count": null,
      "outputs": []
    },
    {
      "cell_type": "code",
      "source": [
        "y_pred = model.predict(X_test_norm)\n",
        "y_pred = np.argmax(y_pred, axis=1)\n",
        "\n",
        "print(classification_report(y_test, y_pred))"
      ],
      "metadata": {
        "id": "0E6D8F9YoOqk"
      },
      "execution_count": null,
      "outputs": []
    },
    {
      "cell_type": "code",
      "source": [
        ""
      ],
      "metadata": {
        "id": "1yDSDbGqojwM"
      },
      "execution_count": null,
      "outputs": []
    }
  ]
}